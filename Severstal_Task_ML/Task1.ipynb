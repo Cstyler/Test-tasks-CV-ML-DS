{
 "cells": [
  {
   "cell_type": "code",
   "execution_count": 6,
   "metadata": {},
   "outputs": [],
   "source": [
    "import pandas as pd"
   ]
  },
  {
   "cell_type": "code",
   "execution_count": 7,
   "metadata": {},
   "outputs": [],
   "source": [
    "file_name = 'statistics_2018.csv'\n",
    "df = pd.read_csv(file_name)"
   ]
  },
  {
   "cell_type": "markdown",
   "metadata": {},
   "source": [
    "Задание а. Более 3 бракованных листов на партию выходит 53 раза для стали марки А, для стали марки B 44 раза"
   ]
  },
  {
   "cell_type": "code",
   "execution_count": 8,
   "metadata": {},
   "outputs": [
    {
     "data": {
      "text/plain": [
       "(53, 44)"
      ]
     },
     "execution_count": 8,
     "metadata": {},
     "output_type": "execute_result"
    }
   ],
   "source": [
    "steel_grade_a = df.loc[df.steel_grade == 'A']\n",
    "steel_grade_b = df.loc[df.steel_grade == 'B']\n",
    "len(steel_grade_a[steel_grade_a.defective_num > 3]), len(steel_grade_b[steel_grade_b.defective_num > 3])"
   ]
  },
  {
   "cell_type": "markdown",
   "metadata": {},
   "source": [
    "Задание б. При скоростях прокатки более 4 м/с свыше 3 бракованных листов стали на партию выходит 74 раза, при меньших скоростях прокатки 23 раза"
   ]
  },
  {
   "cell_type": "code",
   "execution_count": 9,
   "metadata": {},
   "outputs": [
    {
     "data": {
      "text/plain": [
       "(74, 23)"
      ]
     },
     "execution_count": 9,
     "metadata": {},
     "output_type": "execute_result"
    }
   ],
   "source": [
    "fast_rolling = df.loc[df.rolling_speed > 4]\n",
    "slow_rolling = df.loc[df.rolling_speed <= 4]\n",
    "len(fast_rolling.loc[fast_rolling.defective_num > 3]), len(slow_rolling.loc[slow_rolling.defective_num > 3])"
   ]
  },
  {
   "cell_type": "code",
   "execution_count": null,
   "metadata": {},
   "outputs": [],
   "source": []
  }
 ],
 "metadata": {
  "kernelspec": {
   "display_name": "Python 3",
   "language": "python",
   "name": "python3"
  },
  "language_info": {
   "codemirror_mode": {
    "name": "ipython",
    "version": 3
   },
   "file_extension": ".py",
   "mimetype": "text/x-python",
   "name": "python",
   "nbconvert_exporter": "python",
   "pygments_lexer": "ipython3",
   "version": "3.6.7"
  }
 },
 "nbformat": 4,
 "nbformat_minor": 2
}
