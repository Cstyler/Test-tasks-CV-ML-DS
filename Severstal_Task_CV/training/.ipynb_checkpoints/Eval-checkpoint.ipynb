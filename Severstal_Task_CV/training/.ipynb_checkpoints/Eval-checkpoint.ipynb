{
 "cells": [
  {
   "cell_type": "code",
   "execution_count": null,
   "metadata": {
    "colab": {
     "base_uri": "https://localhost:8080/",
     "height": 69
    },
    "colab_type": "code",
    "executionInfo": {
     "elapsed": 69189,
     "status": "ok",
     "timestamp": 1597607035442,
     "user": {
      "displayName": "Khan",
      "photoUrl": "",
      "userId": "07747718529479559494"
     },
     "user_tz": -180
    },
    "id": "dJim-BRJv8_K",
    "outputId": "0f1c1f0b-98e2-4593-b9b6-a173273da721"
   },
   "outputs": [],
   "source": [
    "from segmodel.eval import eval\n",
    "\n",
    "\n",
    "width, height = 256, 256\n",
    "batch_size = 1\n",
    "n_classes = 3\n",
    "model_num = 10\n",
    "val_img_arr_name = 'dataset1_test'\n",
    "\n",
    "print(f\"Model {model_num}\")\n",
    "labels, predictions = eval(val_img_arr_name, model_num, n_classes, batch_size)"
   ]
  },
  {
   "cell_type": "code",
   "execution_count": null,
   "metadata": {
    "colab": {
     "base_uri": "https://localhost:8080/",
     "height": 34
    },
    "colab_type": "code",
    "executionInfo": {
     "elapsed": 578,
     "status": "ok",
     "timestamp": 1597607278884,
     "user": {
      "displayName": "Khan",
      "photoUrl": "",
      "userId": "07747718529479559494"
     },
     "user_tz": -180
    },
    "id": "7ltFSLMLxfvh",
    "outputId": "ea0ff4e4-fab3-4409-d0ad-2bc10c03c8a3"
   },
   "outputs": [],
   "source": [
    "predictions.shape"
   ]
  },
  {
   "cell_type": "code",
   "execution_count": null,
   "metadata": {
    "colab": {},
    "colab_type": "code",
    "executionInfo": {
     "elapsed": 536,
     "status": "ok",
     "timestamp": 1597607330386,
     "user": {
      "displayName": "Khan",
      "photoUrl": "",
      "userId": "07747718529479559494"
     },
     "user_tz": -180
    },
    "id": "C5R0ozi70IXn"
   },
   "outputs": [],
   "source": [
    "shape = predictions.shape\n",
    "pred_squeeze = predictions.reshape(shape[0], width * height, 3)"
   ]
  },
  {
   "cell_type": "code",
   "execution_count": null,
   "metadata": {
    "colab": {},
    "colab_type": "code",
    "id": "mxgutoeM0Q3z"
   },
   "outputs": [],
   "source": []
  }
 ],
 "metadata": {
  "colab": {
   "authorship_tag": "ABX9TyMtJ6OdqcWgNlokWHX+RB4a",
   "name": "Eval.ipynb",
   "provenance": []
  },
  "kernelspec": {
   "display_name": "Python 3",
   "language": "python",
   "name": "python3"
  },
  "language_info": {
   "codemirror_mode": {
    "name": "ipython",
    "version": 3
   },
   "file_extension": ".py",
   "mimetype": "text/x-python",
   "name": "python",
   "nbconvert_exporter": "python",
   "pygments_lexer": "ipython3",
   "version": "3.6.11"
  }
 },
 "nbformat": 4,
 "nbformat_minor": 4
}
