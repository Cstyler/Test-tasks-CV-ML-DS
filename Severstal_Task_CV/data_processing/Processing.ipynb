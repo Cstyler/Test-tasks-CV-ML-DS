{
 "cells": [
  {
   "cell_type": "code",
   "execution_count": 1,
   "metadata": {},
   "outputs": [],
   "source": [
    "import image_processing\n",
    "import sampling\n",
    "from pathlib import Path\n",
    "from pylibs.numpy_utils import read_array\n",
    "\n",
    "dataset_dir_path = Path(\"../dataset\")"
   ]
  },
  {
   "cell_type": "code",
   "execution_count": 2,
   "metadata": {},
   "outputs": [],
   "source": [
    "w, h = 256, 256\n",
    "img_dir = 'dataset1'\n",
    "save_arr_name = img_dir\n",
    "ds_name = 'train'\n",
    "debug = False\n",
    "image_processing.create_img_array(dataset_dir_path, img_dir, ds_name, h, w, save_arr_name, debug)"
   ]
  },
  {
   "cell_type": "code",
   "execution_count": 3,
   "metadata": {},
   "outputs": [],
   "source": [
    "w, h = 256, 256\n",
    "img_dir = 'dataset1'\n",
    "save_arr_name = 'dataset1_test'\n",
    "ds_name = 'validation'\n",
    "debug = False\n",
    "image_processing.create_img_array(dataset_dir_path, img_dir, ds_name, h, w, save_arr_name, debug)"
   ]
  },
  {
   "cell_type": "code",
   "execution_count": 4,
   "metadata": {},
   "outputs": [],
   "source": [
    "arr = read_array(dataset_dir_path / ('%s.npy' % save_arr_name))"
   ]
  },
  {
   "cell_type": "code",
   "execution_count": 6,
   "metadata": {},
   "outputs": [],
   "source": [
    "arr = read_array(dataset_dir_path / ('%s_masks.npy' % save_arr_name))"
   ]
  },
  {
   "cell_type": "code",
   "execution_count": 7,
   "metadata": {},
   "outputs": [
    {
     "data": {
      "text/plain": [
       "(491, 256, 256, 3)"
      ]
     },
     "execution_count": 7,
     "metadata": {},
     "output_type": "execute_result"
    }
   ],
   "source": [
    "arr.shape"
   ]
  },
  {
   "cell_type": "code",
   "execution_count": 4,
   "metadata": {},
   "outputs": [
    {
     "name": "stdout",
     "output_type": "stream",
     "text": [
      "x train shape: (441, 256, 256, 3)\n",
      "y train shape: (441, 256, 256, 4)\n",
      "x val shape: (50, 256, 256, 3)\n",
      "y val shape: (50, 256, 256, 4)\n"
     ]
    }
   ],
   "source": [
    "val_size = .1\n",
    "img_arr_name = 'dataset1'\n",
    "sampling.split_dataset(dataset_dir_path, img_arr_name, val_size)"
   ]
  },
  {
   "cell_type": "code",
   "execution_count": null,
   "metadata": {},
   "outputs": [],
   "source": []
  }
 ],
 "metadata": {
  "kernelspec": {
   "display_name": "Python 3",
   "language": "python",
   "name": "python3"
  },
  "language_info": {
   "codemirror_mode": {
    "name": "ipython",
    "version": 3
   },
   "file_extension": ".py",
   "mimetype": "text/x-python",
   "name": "python",
   "nbconvert_exporter": "python",
   "pygments_lexer": "ipython3",
   "version": "3.6.11"
  }
 },
 "nbformat": 4,
 "nbformat_minor": 4
}
