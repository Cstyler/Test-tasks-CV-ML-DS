{
 "cells": [
  {
   "cell_type": "markdown",
   "metadata": {},
   "source": [
    "### This notebook contains code for processing raw images and segments from elastic\n",
    "Let's convert images to consistently scaled images and segments to masks"
   ]
  },
  {
   "cell_type": "code",
   "execution_count": 3,
   "metadata": {},
   "outputs": [],
   "source": [
    "import os\n",
    "import ujson as json\n",
    "from pprint import pprint\n",
    "import pathlib\n",
    "from functools import reduce\n",
    "from shutil import copyfile\n",
    "\n",
    "import cv2\n",
    "import numpy as np\n",
    "from tqdm import tqdm_notebook\n",
    "from tensorboardX import SummaryWriter\n",
    "from sklearn.model_selection import train_test_split\n",
    "\n",
    "import random\n",
    "from random import shuffle\n",
    "from sys import getsizeof\n",
    "\n",
    "from turbojpeg import TurboJPEG\n",
    "jpeg = TurboJPEG('/opt/libjpeg-turbo/lib64/libturbojpeg.so')"
   ]
  },
  {
   "cell_type": "code",
   "execution_count": 4,
   "metadata": {},
   "outputs": [],
   "source": [
    "def mkdir(dir_):\n",
    "    pathlib.Path(dir_).mkdir(exist_ok=True)"
   ]
  },
  {
   "cell_type": "code",
   "execution_count": 5,
   "metadata": {},
   "outputs": [],
   "source": [
    "def get_path_pairs(images_paths, segments_path, images_path):\n",
    "    # generator, which returns path for image and corresponding path for json\n",
    "    for image_path in images_paths:\n",
    "        photo_id = pathlib.Path(image_path).stem\n",
    "        if photo_id.startswith('.') or not((image_path.endswith('.jpeg') or image_path.endswith('.jpg'))):\n",
    "            continue\n",
    "        json_path = os.path.join(segments_path, f'{photo_id}.json')\n",
    "        if os.path.isfile(json_path):\n",
    "            yield (os.path.join(images_path, image_path), json_path)"
   ]
  },
  {
   "cell_type": "code",
   "execution_count": 6,
   "metadata": {},
   "outputs": [
    {
     "data": {
      "text/plain": [
       "{'Name': 0,\n",
       " 'ProductCode': 1,\n",
       " 'RegularRuble': 2,\n",
       " 'RegularKop': 3,\n",
       " 'DiscountRuble': 4,\n",
       " 'DiscountKop': 5,\n",
       " 'CardRuble': 6,\n",
       " 'CardKop': 7}"
      ]
     },
     "execution_count": 6,
     "metadata": {},
     "output_type": "execute_result"
    }
   ],
   "source": [
    "SEGMENT_CATEGORIES = (\n",
    "    \"Name\",\n",
    "    \"ProductCode\",\n",
    "    \"RegularRuble\",\n",
    "    \"RegularKop\",\n",
    "    \"DiscountRuble\",\n",
    "    \"DiscountKop\",\n",
    "    \"CardRuble\",\n",
    "    \"CardKop\"\n",
    ")\n",
    "\n",
    "SEGCAT2NUMBER9 = {cat: n for n, cat in enumerate(SEGMENT_CATEGORIES)}\n",
    "\n",
    "SEGCAT2NUMBER9"
   ]
  },
  {
   "cell_type": "code",
   "execution_count": 7,
   "metadata": {},
   "outputs": [],
   "source": [
    "def rotate(x: float, y: float, angle: float) -> np.ndarray:\n",
    "    # angle is positive to counter-clock-wise\n",
    "    angle = angle * np.pi / 180\n",
    "    vector = np.array([[x], [y]])\n",
    "    _sin = np.sin(angle)\n",
    "    _cos = np.cos(angle)\n",
    "    matrix = np.array([[_cos, -_sin], [_sin, _cos]])\n",
    "    return np.squeeze(np.matmul(matrix, vector))\n",
    "\n",
    "def rotate_around_axis(point, axis, angle):\n",
    "    translated_x, translated_y = point[0] - axis[0], point[1] - axis[1]\n",
    "    rotated_x, rotated_y = rotate(translated_x, translated_y, angle)\n",
    "    return rotated_x + axis[0], rotated_y + axis[1]\n",
    "\n",
    "rounding = lambda x: int(round(x))\n",
    "\n",
    "def get_corners(x, y, w, h, a):\n",
    "    # return 4 points COUNTER-CLOCK-WISE starting with UPPER-LEFT\n",
    "    x1, y1 = map(rounding, rotate_around_axis((x - w / 2, y - h / 2), (x, y), a))\n",
    "    x2, y2 = map(rounding, rotate_around_axis((x - w / 2, y + h / 2), (x, y), a))\n",
    "    x3, y3 = map(rounding, rotate_around_axis((x + w / 2, y + h / 2), (x, y), a))\n",
    "    x4, y4 = map(rounding, rotate_around_axis((x + w / 2, y - h / 2), (x, y), a))\n",
    "    return (x1, y1), (x2, y2), (x3, y3), (x4, y4)\n",
    "\n",
    "def xywha_fetcher(obj):\n",
    "    return obj['x'], obj['y'], obj['width'], obj['height'], obj['angle']\n",
    "\n",
    "MAX_SIDE = 256\n",
    "\n",
    "def resize(img, mask, inter=cv2.INTER_LINEAR):\n",
    "    h, w, c = img.shape\n",
    "    max_ = max(h, w)\n",
    "    h = h * MAX_SIDE // max_ \n",
    "    w = w * MAX_SIDE // max_\n",
    "    return cv2.resize(img, (w, h), interpolation=inter), \\\n",
    "           cv2.resize(mask, (w, h))"
   ]
  },
  {
   "cell_type": "code",
   "execution_count": 8,
   "metadata": {},
   "outputs": [],
   "source": [
    "def obtain_true_ratios(dataset_len, ratios, max_size):\n",
    "    return {mode: ratios[mode] if ratios[mode] * dataset_len <= max_size[mode] else max_size[mode] / dataset_len\n",
    "            for mode in ('test', 'val')}"
   ]
  },
  {
   "cell_type": "code",
   "execution_count": 9,
   "metadata": {},
   "outputs": [],
   "source": [
    "def transer_data(images, masks, img_dir, label_dir):\n",
    "    for image_path, mask_path in tqdm_notebook(zip(images, masks), total=len(images)):\n",
    "        if os.path.isfile(image_path):\n",
    "            stem = pathlib.Path(image_path).stem\n",
    "            copyfile(image_path, os.path.join(img_dir, f'{stem}.jpg'))\n",
    "            copyfile(mask_path, os.path.join(label_dir, f'{stem}.npy'))"
   ]
  },
  {
   "cell_type": "code",
   "execution_count": 10,
   "metadata": {},
   "outputs": [],
   "source": [
    "def process_dataset(dataset_path, tensorboard_path, split_params=None):\n",
    "    images_path = os.path.join(dataset_path, 'images')\n",
    "    segments_path = os.path.join(dataset_path, 'segments')\n",
    "    \n",
    "    output_dir = os.path.join(dataset_path, 'processed_data')\n",
    "    output_images_path = os.path.join(output_dir, 'images')\n",
    "    output_masks_path = os.path.join(output_dir, 'masks9')\n",
    "    mkdir(output_dir)\n",
    "    mkdir(output_images_path)\n",
    "    mkdir(output_masks_path)\n",
    "    \n",
    "    image_files_paths = [x \n",
    "                     for x in os.listdir(images_path)\n",
    "                     if os.path.isfile(os.path.join(images_path, x))]\n",
    "\n",
    "    img_number = len(image_files_paths)\n",
    "    market = dataset_path.split('-')[-1] if len(dataset_path.split('-')) > 1 else dataset_path.split('/')[-1]\n",
    "    print(f'{market} processing has begun')\n",
    "    with SummaryWriter(tensorboard_path) as writer:\n",
    "\n",
    "        for i, (image_path, json_path) in tqdm_notebook(enumerate(get_path_pairs(image_files_paths,\n",
    "                                                                                 segments_path,\n",
    "                                                                                 images_path)),\n",
    "                                                        total=img_number):\n",
    "            stem = pathlib.Path(image_path).stem\n",
    "            processed_image_path = os.path.join(output_images_path, f'{stem}.jpg')\n",
    "            mask_path = os.path.join(output_masks_path, f'{stem}.npy')\n",
    "\n",
    "            if os.path.isfile(processed_image_path) and os.path.isfile(mask_path):\n",
    "                continue\n",
    "\n",
    "            with open(image_path, 'rb') as f:\n",
    "                img = jpeg.decode(f.read())\n",
    "            img_shape = img.shape\n",
    "\n",
    "            with open(json_path, 'r') as json_file:\n",
    "                segments = json.load(json_file)\n",
    "            manual_segments = [(y['coordinates'], y['segmentType'])\n",
    "                               for y in filter(lambda x: not x['moderation']['moderatedBy'].endswith('machine') \\\n",
    "                                                         and x['segmentType'] in SEGMENT_CATEGORIES,\n",
    "                                               segments)]\n",
    "\n",
    "            mask = np.zeros((*img_shape[:2], 9), dtype=np.uint8)\n",
    "            for segment, segment_type in manual_segments:\n",
    "                corners = get_corners(*xywha_fetcher(segment))\n",
    "                corners = np.array([corners], dtype=np.int32)\n",
    "                temp_canvas = mask[..., SEGCAT2NUMBER9[segment_type]].copy()\n",
    "                mask[..., SEGCAT2NUMBER9[segment_type]] = cv2.fillConvexPoly(temp_canvas, corners, 255)\n",
    "\n",
    "            mask[..., 8] = 255 - reduce(cv2.add, iter(mask[..., c] for c in range(8)))\n",
    "            img, mask = resize(img, mask)\n",
    "\n",
    "            with open(mask_path, 'wb') as numpy_file:\n",
    "                np.save(numpy_file, mask)\n",
    "\n",
    "            with open(processed_image_path, 'wb') as jpeg_file:\n",
    "                jpeg_file.write(jpeg.encode(img, quality=100))\n",
    "                \n",
    "            writer.add_scalar(f'DataProcessing/{market}', (img_number - 1) - i, i)\n",
    "    \n",
    "    if split_params:\n",
    "        all_proccessed_images = os.listdir(output_images_path)\n",
    "        all_proccessed_tags = [os.path.join(output_masks_path, image_name.split('.')[0]+'.npy')\n",
    "                               for image_name in all_proccessed_images]\n",
    "        all_proccessed_images = [os.path.join(output_images_path, image_name)\n",
    "                                 for image_name in all_proccessed_images]\n",
    "        \n",
    "        ratios = split_params['ratios']\n",
    "        max_size = split_params['max_size']\n",
    "        ratios = obtain_true_ratios(len(all_proccessed_images), ratios, max_size)\n",
    "        \n",
    "        X, X_test, y, y_test = train_test_split(all_proccessed_images, all_proccessed_tags, test_size=ratios['test'], random_state=42)\n",
    "        val_percent = ratios['val'] / (1 - ratios['test'])\n",
    "        X_train, X_val, y_train, y_val = train_test_split(X, y, test_size=val_percent, random_state=42)\n",
    "        \n",
    "        cache_dir = split_params['directory']\n",
    "        mkdir(cache_dir)\n",
    "\n",
    "        train_dir = os.path.join(cache_dir, 'train')\n",
    "        train_images = os.path.join(train_dir, 'images')\n",
    "        train_labels = os.path.join(train_dir, 'labels')\n",
    "\n",
    "        val_dir = os.path.join(cache_dir, 'val')\n",
    "        val_images = os.path.join(val_dir, 'images')\n",
    "        val_labels = os.path.join(val_dir, 'labels')\n",
    "\n",
    "        test_dir = os.path.join(cache_dir, 'test')\n",
    "        test_images = os.path.join(test_dir, 'images')\n",
    "        test_labels = os.path.join(test_dir, 'labels')\n",
    "        \n",
    "        for dir_ in (train_dir, val_dir, test_dir, \n",
    "                     train_images, train_labels,\n",
    "                     val_images, val_labels,\n",
    "                     test_images, test_labels):\n",
    "            mkdir(dir_)\n",
    "        \n",
    "        transer_data(X_train, y_train, train_images, train_labels)\n",
    "        transer_data(X_val, y_val, val_images, val_labels)\n",
    "        transer_data(X_test, y_test, test_images, test_labels)"
   ]
  },
  {
   "cell_type": "code",
   "execution_count": 11,
   "metadata": {},
   "outputs": [
    {
     "data": {
      "text/plain": [
       "['../storage/segmentator-tags/magnit-info.ru',\n",
       " '../storage/segmentator-tags/auchan.ru',\n",
       " '../storage/segmentator-tags/ataksupermarket.ru',\n",
       " '../storage/segmentator-tags/globus.ru',\n",
       " '../storage/segmentator-tags/maxi-retail.ru',\n",
       " '../storage/segmentator-tags/okmarket.ru',\n",
       " '../storage/segmentator-tags/bristol.ru',\n",
       " '../storage/segmentator-tags/europa-ts.ru',\n",
       " '../storage/segmentator-tags/5ka.ru',\n",
       " '../storage/segmentator-tags/spar.ru',\n",
       " '../storage/segmentator-tags/lenta.com',\n",
       " '../storage/segmentator-tags/dixy.ru']"
      ]
     },
     "execution_count": 11,
     "metadata": {},
     "output_type": "execute_result"
    }
   ],
   "source": [
    "main_dir = '../storage/segmentator-tags/'\n",
    "datasets_list = [os.path.join(main_dir, x) for x in os.listdir(main_dir) if not x.startswith('.')]\n",
    "datasets_list"
   ]
  },
  {
   "cell_type": "code",
   "execution_count": 12,
   "metadata": {},
   "outputs": [],
   "source": [
    "split_params = {\n",
    "    \"directory\": '../cached_data/all/',\n",
    "    \"ratios\":\n",
    "    {\n",
    "        \"val\": 0.01,\n",
    "        \"test\": 0.005\n",
    "    },\n",
    "    \"max_size\":\n",
    "    {\n",
    "        \"val\": 200,\n",
    "        \"test\": 50\n",
    "    }\n",
    "}"
   ]
  },
  {
   "cell_type": "code",
   "execution_count": null,
   "metadata": {},
   "outputs": [
    {
     "name": "stdout",
     "output_type": "stream",
     "text": [
      "info.ru processing has begun\n"
     ]
    },
    {
     "data": {
      "application/vnd.jupyter.widget-view+json": {
       "model_id": "3e71cf2d0bb8446fb4c415d078189903",
       "version_major": 2,
       "version_minor": 0
      },
      "text/plain": [
       "HBox(children=(IntProgress(value=0, max=99807), HTML(value='')))"
      ]
     },
     "metadata": {},
     "output_type": "display_data"
    },
    {
     "name": "stdout",
     "output_type": "stream",
     "text": [
      "tags/auchan.ru processing has begun\n"
     ]
    },
    {
     "data": {
      "application/vnd.jupyter.widget-view+json": {
       "model_id": "3057167c25cb43429cbdcf7ad0ec5887",
       "version_major": 2,
       "version_minor": 0
      },
      "text/plain": [
       "HBox(children=(IntProgress(value=0, max=64162), HTML(value='')))"
      ]
     },
     "metadata": {},
     "output_type": "display_data"
    },
    {
     "name": "stdout",
     "output_type": "stream",
     "text": [
      "tags/ataksupermarket.ru processing has begun\n"
     ]
    },
    {
     "data": {
      "application/vnd.jupyter.widget-view+json": {
       "model_id": "328803b2d60541588d668ad7221cc90b",
       "version_major": 2,
       "version_minor": 0
      },
      "text/plain": [
       "HBox(children=(IntProgress(value=0, max=1163), HTML(value='')))"
      ]
     },
     "metadata": {},
     "output_type": "display_data"
    },
    {
     "name": "stdout",
     "output_type": "stream",
     "text": [
      "tags/globus.ru processing has begun\n"
     ]
    },
    {
     "data": {
      "application/vnd.jupyter.widget-view+json": {
       "model_id": "570598e8d0754cacb44a7ed080bb058f",
       "version_major": 2,
       "version_minor": 0
      },
      "text/plain": [
       "HBox(children=(IntProgress(value=0, max=8842), HTML(value='')))"
      ]
     },
     "metadata": {},
     "output_type": "display_data"
    },
    {
     "name": "stdout",
     "output_type": "stream",
     "text": [
      "retail.ru processing has begun\n"
     ]
    },
    {
     "data": {
      "application/vnd.jupyter.widget-view+json": {
       "model_id": "7bd918f7e1dc4fb3894d3d826d6537f3",
       "version_major": 2,
       "version_minor": 0
      },
      "text/plain": [
       "HBox(children=(IntProgress(value=0, max=17355), HTML(value='')))"
      ]
     },
     "metadata": {},
     "output_type": "display_data"
    },
    {
     "name": "stdout",
     "output_type": "stream",
     "text": [
      "tags/okmarket.ru processing has begun\n"
     ]
    },
    {
     "data": {
      "application/vnd.jupyter.widget-view+json": {
       "model_id": "d27776d0d8454dd0896a73cbd3dba381",
       "version_major": 2,
       "version_minor": 0
      },
      "text/plain": [
       "HBox(children=(IntProgress(value=0, max=80111), HTML(value='')))"
      ]
     },
     "metadata": {},
     "output_type": "display_data"
    },
    {
     "name": "stdout",
     "output_type": "stream",
     "text": [
      "tags/bristol.ru processing has begun\n"
     ]
    },
    {
     "data": {
      "application/vnd.jupyter.widget-view+json": {
       "model_id": "888c6257eb83470cb449d6ef02814821",
       "version_major": 2,
       "version_minor": 0
      },
      "text/plain": [
       "HBox(children=(IntProgress(value=0, max=33743), HTML(value='')))"
      ]
     },
     "metadata": {},
     "output_type": "display_data"
    },
    {
     "name": "stdout",
     "output_type": "stream",
     "text": [
      "ts.ru processing has begun\n"
     ]
    },
    {
     "data": {
      "application/vnd.jupyter.widget-view+json": {
       "model_id": "d1a578e82c4448a89c0780ed30fd9b65",
       "version_major": 2,
       "version_minor": 0
      },
      "text/plain": [
       "HBox(children=(IntProgress(value=0, max=65541), HTML(value='')))"
      ]
     },
     "metadata": {},
     "output_type": "display_data"
    },
    {
     "name": "stdout",
     "output_type": "stream",
     "text": [
      "tags/5ka.ru processing has begun\n"
     ]
    },
    {
     "data": {
      "application/vnd.jupyter.widget-view+json": {
       "model_id": "1a8bd8f3acbf4f569df957e2634d1ad8",
       "version_major": 2,
       "version_minor": 0
      },
      "text/plain": [
       "HBox(children=(IntProgress(value=0, max=38236), HTML(value='')))"
      ]
     },
     "metadata": {},
     "output_type": "display_data"
    },
    {
     "name": "stdout",
     "output_type": "stream",
     "text": [
      "tags/spar.ru processing has begun\n"
     ]
    },
    {
     "data": {
      "application/vnd.jupyter.widget-view+json": {
       "model_id": "9e4a94b2032b47c197d89a914a76d9c4",
       "version_major": 2,
       "version_minor": 0
      },
      "text/plain": [
       "HBox(children=(IntProgress(value=0, max=93730), HTML(value='')))"
      ]
     },
     "metadata": {},
     "output_type": "display_data"
    },
    {
     "name": "stdout",
     "output_type": "stream",
     "text": [
      "tags/lenta.com processing has begun\n"
     ]
    },
    {
     "data": {
      "application/vnd.jupyter.widget-view+json": {
       "model_id": "11a26cf0f744492e8fc2fc819cfbdc20",
       "version_major": 2,
       "version_minor": 0
      },
      "text/plain": [
       "HBox(children=(IntProgress(value=0, max=95607), HTML(value='')))"
      ]
     },
     "metadata": {},
     "output_type": "display_data"
    },
    {
     "name": "stdout",
     "output_type": "stream",
     "text": [
      "tags/dixy.ru processing has begun\n"
     ]
    },
    {
     "data": {
      "application/vnd.jupyter.widget-view+json": {
       "model_id": "4f9be5aee5bc40d5bdb5bc5cf020a2c2",
       "version_major": 2,
       "version_minor": 0
      },
      "text/plain": [
       "HBox(children=(IntProgress(value=0, max=3035), HTML(value='')))"
      ]
     },
     "metadata": {},
     "output_type": "display_data"
    }
   ],
   "source": [
    "for dataset_path in datasets_list:\n",
    "    process_dataset(dataset_path, '../tensorboard/processing/run1')#, split_params)"
   ]
  },
  {
   "cell_type": "code",
   "execution_count": 14,
   "metadata": {},
   "outputs": [
    {
     "name": "stdout",
     "output_type": "stream",
     "text": [
      "Done\n"
     ]
    }
   ],
   "source": [
    "print('Done')"
   ]
  },
  {
   "cell_type": "code",
   "execution_count": 72,
   "metadata": {},
   "outputs": [
    {
     "data": {
      "text/plain": [
       "{'test': 0.001, 'val': 0.01}"
      ]
     },
     "execution_count": 72,
     "metadata": {},
     "output_type": "execute_result"
    }
   ],
   "source": [
    "obtain_true_ratios(100000, {'test': 0.005, 'val': 0.01}, {'test': 100, 'val': 1000})"
   ]
  },
  {
   "cell_type": "code",
   "execution_count": null,
   "metadata": {},
   "outputs": [],
   "source": []
  },
  {
   "cell_type": "code",
   "execution_count": null,
   "metadata": {},
   "outputs": [],
   "source": []
  },
  {
   "cell_type": "code",
   "execution_count": null,
   "metadata": {},
   "outputs": [],
   "source": []
  },
  {
   "cell_type": "code",
   "execution_count": null,
   "metadata": {},
   "outputs": [],
   "source": []
  }
 ],
 "metadata": {
  "kernelspec": {
   "display_name": "Python 3",
   "language": "python",
   "name": "python3"
  },
  "language_info": {
   "codemirror_mode": {
    "name": "ipython",
    "version": 3
   },
   "file_extension": ".py",
   "mimetype": "text/x-python",
   "name": "python",
   "nbconvert_exporter": "python",
   "pygments_lexer": "ipython3",
   "version": "3.7.2"
  }
 },
 "nbformat": 4,
 "nbformat_minor": 2
}
