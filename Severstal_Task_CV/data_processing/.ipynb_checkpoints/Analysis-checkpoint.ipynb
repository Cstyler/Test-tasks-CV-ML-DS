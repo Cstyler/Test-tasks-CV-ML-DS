{
 "cells": [
  {
   "cell_type": "code",
   "execution_count": 1,
   "metadata": {},
   "outputs": [],
   "source": [
    "from pathlib import Path\n",
    "import analysis"
   ]
  },
  {
   "cell_type": "code",
   "execution_count": 12,
   "metadata": {},
   "outputs": [
    {
     "data": {
      "text/plain": [
       "({1.25,\n",
       "  1.3333333333333333,\n",
       "  1.7298624754420433,\n",
       "  1.7769985974754559,\n",
       "  1.7777777777777777,\n",
       "  1.7789473684210526},\n",
       " {(720, 576),\n",
       "  (800, 600),\n",
       "  (1014, 570),\n",
       "  (1024, 576),\n",
       "  (1152, 648),\n",
       "  (1267, 713),\n",
       "  (1280, 720),\n",
       "  (1761, 1018),\n",
       "  (1920, 1080)},\n",
       " [1.7769985974754559,\n",
       "  1.7777777777777777,\n",
       "  1.7298624754420433,\n",
       "  1.7777777777777777,\n",
       "  1.7789473684210526,\n",
       "  1.3333333333333333,\n",
       "  1.25,\n",
       "  1.7777777777777777,\n",
       "  1.7777777777777777])"
      ]
     },
     "execution_count": 12,
     "metadata": {},
     "output_type": "execute_result"
    }
   ],
   "source": [
    "dataset_dir_path = Path(\"../dataset\")\n",
    "df_name = 'dataset1'\n",
    "ds_set = 'train'\n",
    "hs, ws = analysis.shape_analysis(dataset_dir_path, df_name, ds_set)\n",
    "set(hs / ws), set(zip(hs, ws)), list((x/y for x, y in set(zip(hs, ws))))"
   ]
  },
  {
   "cell_type": "code",
   "execution_count": null,
   "metadata": {},
   "outputs": [],
   "source": []
  }
 ],
 "metadata": {
  "kernelspec": {
   "display_name": "Python 3",
   "language": "python",
   "name": "python3"
  },
  "language_info": {
   "codemirror_mode": {
    "name": "ipython",
    "version": 3
   },
   "file_extension": ".py",
   "mimetype": "text/x-python",
   "name": "python",
   "nbconvert_exporter": "python",
   "pygments_lexer": "ipython3",
   "version": "3.6.11"
  }
 },
 "nbformat": 4,
 "nbformat_minor": 4
}
