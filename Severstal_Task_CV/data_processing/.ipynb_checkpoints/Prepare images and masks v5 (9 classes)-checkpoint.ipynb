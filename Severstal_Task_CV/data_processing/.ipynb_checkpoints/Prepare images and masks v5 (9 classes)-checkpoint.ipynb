{
 "cells": [
  {
   "cell_type": "markdown",
   "metadata": {},
   "source": [
    "### This notebook contains code for processing raw images and segments from elastic\n",
    "Let's convert images to consistently scaled images and segments to masks"
   ]
  },
  {
   "cell_type": "code",
   "execution_count": 1,
   "metadata": {},
   "outputs": [],
   "source": [
    "import os\n",
    "import ujson as json\n",
    "from pprint import pprint\n",
    "import pathlib\n",
    "from functools import reduce\n",
    "\n",
    "import cv2\n",
    "import numpy as np\n",
    "import tqdm.auto as tqdm\n",
    "\n",
    "import matplotlib.pyplot as plt\n",
    "%matplotlib inline"
   ]
  },
  {
   "cell_type": "code",
   "execution_count": 2,
   "metadata": {},
   "outputs": [],
   "source": [
    "import random\n",
    "from random import shuffle\n",
    "from sys import getsizeof"
   ]
  },
  {
   "cell_type": "code",
   "execution_count": 4,
   "metadata": {},
   "outputs": [],
   "source": [
    "DATASET_PATH = '../storage/17-02-19-segmentator-tags-lenta.com/'"
   ]
  },
  {
   "cell_type": "code",
   "execution_count": 5,
   "metadata": {},
   "outputs": [],
   "source": [
    "images_path = os.path.join(DATASET_PATH, 'images')\n",
    "segments_path = os.path.join(DATASET_PATH, 'segments')"
   ]
  },
  {
   "cell_type": "code",
   "execution_count": 6,
   "metadata": {},
   "outputs": [],
   "source": [
    "def mkdir(dir_):\n",
    "    pathlib.Path(dir_).mkdir(exist_ok=True)"
   ]
  },
  {
   "cell_type": "code",
   "execution_count": 28,
   "metadata": {},
   "outputs": [],
   "source": [
    "output_dir = os.path.join(DATASET_PATH, 'processed_data')\n",
    "output_images_path = os.path.join(output_dir, 'images')\n",
    "output_masks_path = os.path.join(output_dir, 'masks9')"
   ]
  },
  {
   "cell_type": "code",
   "execution_count": 29,
   "metadata": {},
   "outputs": [],
   "source": [
    "mkdir(output_dir)\n",
    "mkdir(output_images_path)\n",
    "mkdir(output_masks_path)"
   ]
  },
  {
   "cell_type": "code",
   "execution_count": 9,
   "metadata": {},
   "outputs": [],
   "source": [
    "sample_img_paths = [os.path.join(images_path, x) for x in os.listdir(images_path)[:10]]\n",
    "sample_seg_paths = [os.path.join(segments_path, pathlib.Path(x).stem)+'.json'\n",
    "                    for x in sample_img_paths]"
   ]
  },
  {
   "cell_type": "code",
   "execution_count": 10,
   "metadata": {},
   "outputs": [],
   "source": [
    "with open(sample_seg_paths[-1]) as f:\n",
    "    segments = json.load(f)"
   ]
  },
  {
   "cell_type": "code",
   "execution_count": 11,
   "metadata": {},
   "outputs": [
    {
     "name": "stdout",
     "output_type": "stream",
     "text": [
      "[{'confidence': 0.0,\n",
      "  'coordinates': {'angle': 0.0,\n",
      "                  'height': 213,\n",
      "                  'width': 837,\n",
      "                  'x': 760,\n",
      "                  'y': 522},\n",
      "  'moderation': {'duration': 5252,\n",
      "                 'moderated': '2019-02-03T15:55:17.413+0300',\n",
      "                 'moderatedBy': 'poltorak.anastasiya@mco.ru'},\n",
      "  'segmentType': 'Name'},\n",
      " {'confidence': 0.0,\n",
      "  'coordinates': {'angle': 0.0,\n",
      "                  'height': 92,\n",
      "                  'width': 172,\n",
      "                  'x': 457,\n",
      "                  'y': 1029},\n",
      "  'moderation': {'duration': 5252,\n",
      "                 'moderated': '2019-02-03T15:55:17.413+0300',\n",
      "                 'moderatedBy': 'poltorak.anastasiya@mco.ru'},\n",
      "  'segmentType': 'RegularRuble'},\n",
      " {'confidence': 0.0,\n",
      "  'coordinates': {'angle': 0.0, 'height': 59, 'width': 69, 'x': 612, 'y': 967},\n",
      "  'moderation': {'duration': 5252,\n",
      "                 'moderated': '2019-02-03T15:55:17.413+0300',\n",
      "                 'moderatedBy': 'poltorak.anastasiya@mco.ru'},\n",
      "  'segmentType': 'RegularKop'},\n",
      " {'confidence': 0.0,\n",
      "  'coordinates': {'angle': 0.0,\n",
      "                  'height': 157,\n",
      "                  'width': 296,\n",
      "                  'x': 925,\n",
      "                  'y': 1200},\n",
      "  'moderation': {'duration': 5252,\n",
      "                 'moderated': '2019-02-03T15:55:17.413+0300',\n",
      "                 'moderatedBy': 'poltorak.anastasiya@mco.ru'},\n",
      "  'segmentType': 'CardRuble'},\n",
      " {'confidence': 0.0,\n",
      "  'coordinates': {'angle': 0.0,\n",
      "                  'height': 92,\n",
      "                  'width': 131,\n",
      "                  'x': 1145,\n",
      "                  'y': 1121},\n",
      "  'moderation': {'duration': 5252,\n",
      "                 'moderated': '2019-02-03T15:55:17.413+0300',\n",
      "                 'moderatedBy': 'poltorak.anastasiya@mco.ru'},\n",
      "  'segmentType': 'CardKop'},\n",
      " {'confidence': 0.0,\n",
      "  'coordinates': {'angle': 0.0,\n",
      "                  'height': 106,\n",
      "                  'width': 343,\n",
      "                  'x': 579,\n",
      "                  'y': 818},\n",
      "  'moderation': {'duration': 5252,\n",
      "                 'moderated': '2019-02-03T15:55:17.413+0300',\n",
      "                 'moderatedBy': 'poltorak.anastasiya@mco.ru'},\n",
      "  'segmentType': 'ProductCode'},\n",
      " {'confidence': 0.0,\n",
      "  'coordinates': {'angle': 0.0,\n",
      "                  'height': 213,\n",
      "                  'width': 837,\n",
      "                  'x': 760,\n",
      "                  'y': 522},\n",
      "  'moderation': {'duration': 0,\n",
      "                 'moderated': '2019-02-01T19:00:29.185+0300',\n",
      "                 'moderatedBy': 'segmentation@machine'},\n",
      "  'segmentType': 'Name'},\n",
      " {'confidence': 0.0,\n",
      "  'coordinates': {'angle': 0.0,\n",
      "                  'height': 92,\n",
      "                  'width': 172,\n",
      "                  'x': 457,\n",
      "                  'y': 1029},\n",
      "  'moderation': {'duration': 0,\n",
      "                 'moderated': '2019-02-01T19:00:29.185+0300',\n",
      "                 'moderatedBy': 'segmentation@machine'},\n",
      "  'segmentType': 'RegularRuble'},\n",
      " {'confidence': 0.0,\n",
      "  'coordinates': {'angle': 0.0, 'height': 59, 'width': 69, 'x': 612, 'y': 967},\n",
      "  'moderation': {'duration': 0,\n",
      "                 'moderated': '2019-02-01T19:00:29.185+0300',\n",
      "                 'moderatedBy': 'segmentation@machine'},\n",
      "  'segmentType': 'RegularKop'},\n",
      " {'confidence': 0.0,\n",
      "  'coordinates': {'angle': 0.0,\n",
      "                  'height': 157,\n",
      "                  'width': 296,\n",
      "                  'x': 925,\n",
      "                  'y': 1200},\n",
      "  'moderation': {'duration': 0,\n",
      "                 'moderated': '2019-02-01T19:00:29.185+0300',\n",
      "                 'moderatedBy': 'segmentation@machine'},\n",
      "  'segmentType': 'CardRuble'},\n",
      " {'confidence': 0.0,\n",
      "  'coordinates': {'angle': 0.0,\n",
      "                  'height': 92,\n",
      "                  'width': 131,\n",
      "                  'x': 1145,\n",
      "                  'y': 1121},\n",
      "  'moderation': {'duration': 0,\n",
      "                 'moderated': '2019-02-01T19:00:29.185+0300',\n",
      "                 'moderatedBy': 'segmentation@machine'},\n",
      "  'segmentType': 'CardKop'}]\n"
     ]
    }
   ],
   "source": [
    "pprint(segments)"
   ]
  },
  {
   "cell_type": "code",
   "execution_count": 12,
   "metadata": {},
   "outputs": [],
   "source": [
    "img = cv2.imread(sample_img_paths[-1])"
   ]
  },
  {
   "cell_type": "code",
   "execution_count": 13,
   "metadata": {},
   "outputs": [
    {
     "name": "stdout",
     "output_type": "stream",
     "text": [
      "(1678, 1761, 3)\n"
     ]
    },
    {
     "data": {
      "text/plain": [
       "<matplotlib.image.AxesImage at 0x7fa6685f3860>"
      ]
     },
     "execution_count": 13,
     "metadata": {},
     "output_type": "execute_result"
    },
    {
     "data": {
      "image/png": "[encoded data removed]",
      "text/plain": [
       "<Figure size 432x288 with 1 Axes>"
      ]
     },
     "metadata": {
      "needs_background": "light"
     },
     "output_type": "display_data"
    }
   ],
   "source": [
    "print(img.shape)\n",
    "plt.imshow(img)"
   ]
  },
  {
   "cell_type": "code",
   "execution_count": 14,
   "metadata": {},
   "outputs": [],
   "source": [
    "def get_path_pairs(images_paths):\n",
    "    # generator, which returns path for image and corresponding path for json\n",
    "    for image_path in images_paths:\n",
    "        photo_id = pathlib.Path(image_path).stem\n",
    "        assert not photo_id.startswith('.') and (image_path.endswith('.jpeg') or image_path.endswith('.jpg'))\n",
    "        json_path = os.path.join(segments_path, f'{photo_id}.json')\n",
    "        if os.path.isfile(json_path):\n",
    "            yield (os.path.join(images_path, image_path), json_path)"
   ]
  },
  {
   "cell_type": "code",
   "execution_count": 15,
   "metadata": {},
   "outputs": [],
   "source": [
    "SEGMENT_CATEGORIES = frozenset((\n",
    "    \"Name\",\n",
    "    \"ProductCode\",\n",
    "    \"RegularRuble\",\n",
    "    \"RegularKop\",\n",
    "    \"DiscountRuble\",\n",
    "    \"DiscountKop\",\n",
    "    \"CardRuble\",\n",
    "    \"CardKop\"\n",
    "))"
   ]
  },
  {
   "cell_type": "code",
   "execution_count": 16,
   "metadata": {},
   "outputs": [],
   "source": [
    "MASK_CATEGORIES = (\n",
    "    \"Name\",\n",
    "    \"Code\",\n",
    "    \"Rubles\",\n",
    "    \"Kops\",\n",
    "    \"Background\"\n",
    ")"
   ]
  },
  {
   "cell_type": "code",
   "execution_count": 17,
   "metadata": {},
   "outputs": [],
   "source": [
    "SEGCAT2MASKCAT = {\n",
    "    \"Name\" : \"Name\",\n",
    "    \"ProductCode\" : \"Code\",\n",
    "    \"RegularRuble\" : \"Rubles\",\n",
    "    \"RegularKop\" : \"Kops\",\n",
    "    \"DiscountRuble\" : \"Rubles\",\n",
    "    \"DiscountKop\" : \"Kops\",\n",
    "    \"CardRuble\" : \"Rubles\",\n",
    "    \"CardKop\" : \"Kops\"\n",
    "}"
   ]
  },
  {
   "cell_type": "code",
   "execution_count": 18,
   "metadata": {},
   "outputs": [],
   "source": [
    "MASKCAT2NUMBER = {\n",
    "    cat : n\n",
    "    for n, cat in enumerate(MASK_CATEGORIES)\n",
    "}"
   ]
  },
  {
   "cell_type": "code",
   "execution_count": 19,
   "metadata": {},
   "outputs": [
    {
     "data": {
      "text/plain": [
       "{'Name': 0, 'Code': 1, 'Rubles': 2, 'Kops': 3, 'Background': 4}"
      ]
     },
     "execution_count": 19,
     "metadata": {},
     "output_type": "execute_result"
    }
   ],
   "source": [
    "MASKCAT2NUMBER"
   ]
  },
  {
   "cell_type": "code",
   "execution_count": 20,
   "metadata": {},
   "outputs": [],
   "source": [
    "SEGCAT2NUMBER = {\n",
    "    cat : MASKCAT2NUMBER[SEGCAT2MASKCAT[cat]]\n",
    "    for cat in SEGMENT_CATEGORIES\n",
    "}"
   ]
  },
  {
   "cell_type": "code",
   "execution_count": 21,
   "metadata": {},
   "outputs": [
    {
     "data": {
      "text/plain": [
       "{'RegularRuble': 2,\n",
       " 'DiscountRuble': 2,\n",
       " 'DiscountKop': 3,\n",
       " 'Name': 0,\n",
       " 'RegularKop': 3,\n",
       " 'CardKop': 3,\n",
       " 'ProductCode': 1,\n",
       " 'CardRuble': 2}"
      ]
     },
     "execution_count": 21,
     "metadata": {},
     "output_type": "execute_result"
    }
   ],
   "source": [
    "SEGCAT2NUMBER"
   ]
  },
  {
   "cell_type": "code",
   "execution_count": 22,
   "metadata": {},
   "outputs": [
    {
     "data": {
      "text/plain": [
       "{'Name': 0,\n",
       " 'ProductCode': 1,\n",
       " 'RegularRuble': 2,\n",
       " 'RegularKop': 3,\n",
       " 'DiscountRuble': 4,\n",
       " 'DiscountKop': 5,\n",
       " 'CardRuble': 6,\n",
       " 'CardKop': 7}"
      ]
     },
     "execution_count": 22,
     "metadata": {},
     "output_type": "execute_result"
    }
   ],
   "source": [
    "SEGCAT2NUMBER9 = {cat: n for n, cat in enumerate(SEGCAT2MASKCAT.keys())}\n",
    "SEGCAT2NUMBER9"
   ]
  },
  {
   "cell_type": "code",
   "execution_count": 23,
   "metadata": {},
   "outputs": [],
   "source": [
    "def rotate(x: float, y: float, angle: float) -> np.ndarray:\n",
    "    # angle is positive to counter-clock-wise\n",
    "    angle = angle * np.pi / 180\n",
    "    vector = np.array([[x], [y]])\n",
    "    _sin = np.sin(angle)\n",
    "    _cos = np.cos(angle)\n",
    "    matrix = np.array([[_cos, -_sin], [_sin, _cos]])\n",
    "    return np.squeeze(np.matmul(matrix, vector))\n",
    "\n",
    "def rotate_around_axis(point, axis, angle):\n",
    "    translated_x, translated_y = point[0] - axis[0], point[1] - axis[1]\n",
    "    rotated_x, rotated_y = rotate(translated_x, translated_y, angle)\n",
    "    return rotated_x + axis[0], rotated_y + axis[1]\n",
    "\n",
    "rounding = lambda x: int(round(x))\n",
    "\n",
    "def get_corners(x, y, w, h, a):\n",
    "    # return 4 points COUNTER-CLOCK-WISE starting with UPPER-LEFT\n",
    "    x1, y1 = map(rounding, rotate_around_axis((x - w / 2, y - h / 2), (x, y), a))\n",
    "    x2, y2 = map(rounding, rotate_around_axis((x - w / 2, y + h / 2), (x, y), a))\n",
    "    x3, y3 = map(rounding, rotate_around_axis((x + w / 2, y + h / 2), (x, y), a))\n",
    "    x4, y4 = map(rounding, rotate_around_axis((x + w / 2, y - h / 2), (x, y), a))\n",
    "    return (x1, y1), (x2, y2), (x3, y3), (x4, y4)\n",
    "\n",
    "def xywha_fetcher(obj):\n",
    "    return obj['x'], obj['y'], obj['width'], obj['height'], obj['angle']"
   ]
  },
  {
   "cell_type": "code",
   "execution_count": 24,
   "metadata": {},
   "outputs": [],
   "source": [
    "def show_img_and_mask(img, mask):\n",
    "    counter = 0\n",
    "    plt.figure(figsize=(11, 9))\n",
    "    for i in range(2):\n",
    "        for j in range(3):\n",
    "            plt.subplot(2, 3, counter+1)\n",
    "            if counter < 5:\n",
    "                plt.imshow(mask[:,:,counter])\n",
    "                counter += 1\n",
    "            else:\n",
    "                aver = mask[...,:4].mean(axis=-1, keepdims=True) / 255. + 0.4\n",
    "                plt.imshow(aver * (img / 255.) / aver.max())\n",
    "    plt.show()"
   ]
  },
  {
   "cell_type": "code",
   "execution_count": 25,
   "metadata": {},
   "outputs": [],
   "source": [
    "MAX_SIDE = 256"
   ]
  },
  {
   "cell_type": "code",
   "execution_count": 26,
   "metadata": {},
   "outputs": [],
   "source": [
    "def resize(img, mask, inter=cv2.INTER_LINEAR):\n",
    "    h, w, c = img.shape\n",
    "    max_ = max(h, w)\n",
    "    h = h * MAX_SIDE // max_ \n",
    "    w = w * MAX_SIDE // max_\n",
    "    return cv2.resize(img, (w, h), interpolation=inter), \\\n",
    "           cv2.resize(mask, (w, h))"
   ]
  },
  {
   "cell_type": "markdown",
   "metadata": {},
   "source": [
    "Now we need to deal with large amount of data, for this we will use efficient library for jpeg working"
   ]
  },
  {
   "cell_type": "code",
   "execution_count": 27,
   "metadata": {},
   "outputs": [],
   "source": [
    "from turbojpeg import TurboJPEG\n",
    "jpeg = TurboJPEG('/opt/libjpeg-turbo/lib64/libturbojpeg.so')"
   ]
  },
  {
   "cell_type": "code",
   "execution_count": null,
   "metadata": {},
   "outputs": [
    {
     "data": {
      "application/vnd.jupyter.widget-view+json": {
       "model_id": "cf85422ef7da407dad95afb9f20ef1fc",
       "version_major": 2,
       "version_minor": 0
      },
      "text/plain": [
       "HBox(children=(IntProgress(value=0, max=250286), HTML(value='')))"
      ]
     },
     "metadata": {},
     "output_type": "display_data"
    }
   ],
   "source": [
    "image_files_paths = [x \n",
    "                     for x in os.listdir(images_path)\n",
    "                     if os.path.isfile(os.path.join(images_path, x))]\n",
    "\n",
    "img_number = len(image_files_paths)\n",
    "\n",
    "from tensorboardX import SummaryWriter\n",
    "i = 0\n",
    "TENSORBOARD_DIR = '../tensorboard/processing/'\n",
    "with SummaryWriter(TENSORBOARD_DIR) as writer:\n",
    "\n",
    "    for image_path, json_path in tqdm.tqdm(get_path_pairs(image_files_paths), total=img_number):\n",
    "        stem = pathlib.Path(image_path).stem\n",
    "        processed_image_path = os.path.join(output_images_path, f'{stem}.jpg')\n",
    "        mask_path = os.path.join(output_masks_path, f'{stem}.npy')\n",
    "                                            \n",
    "        i += 1\n",
    "        if os.path.isfile(processed_image_path) and os.path.isfile(mask_path):\n",
    "            continue\n",
    "        writer.add_scalar('DataProcessing/Lenta', (img_number - 1) - i, i)\n",
    "\n",
    "        with open(image_path, 'rb') as f:\n",
    "            img = jpeg.decode(f.read())\n",
    "        img_shape = img.shape\n",
    "\n",
    "        with open(json_path, 'r') as json_file:\n",
    "            segments = json.load(json_file)\n",
    "        manual_segments = [(y['coordinates'], y['segmentType'])\n",
    "                           for y in filter(lambda x: not x['moderation']['moderatedBy'].endswith('machine') \\\n",
    "                                                     and x['segmentType'] in SEGMENT_CATEGORIES,\n",
    "                                           segments)]\n",
    "\n",
    "        mask = np.zeros((*img_shape[:2], 9), dtype=np.uint8)\n",
    "        for segment, segment_type in manual_segments:\n",
    "            corners = get_corners(*xywha_fetcher(segment))\n",
    "            corners = np.array([corners], dtype=np.int32)\n",
    "            temp_canvas = mask[:,:,SEGCAT2NUMBER9[segment_type]].copy()\n",
    "            mask[...,SEGCAT2NUMBER9[segment_type]] = cv2.fillConvexPoly(temp_canvas, corners, 255)\n",
    "\n",
    "        mask[..., 8] = 255 - reduce(cv2.add, iter(mask[...,c] for c in range(8)))\n",
    "        img, mask = resize(img, mask)\n",
    "\n",
    "        with open(mask_path, 'wb') as numpy_file:\n",
    "            np.save(numpy_file, mask)\n",
    "\n",
    "#         with open(processed_image_path, 'wb') as jpeg_file:\n",
    "#             jpeg_file.write(jpeg.encode(img, quality=100))"
   ]
  },
  {
   "cell_type": "code",
   "execution_count": 33,
   "metadata": {},
   "outputs": [
    {
     "name": "stdout",
     "output_type": "stream",
     "text": [
      "kernel is ready!\n"
     ]
    }
   ],
   "source": [
    "print('kernel is ready!')"
   ]
  },
  {
   "cell_type": "markdown",
   "metadata": {},
   "source": [
    "After saving processed file into storage, we need to transfer it into cached_data. While doing this we split out data into train and test"
   ]
  },
  {
   "cell_type": "code",
   "execution_count": 35,
   "metadata": {},
   "outputs": [],
   "source": [
    "TEST_PERCENT = 0.0005\n",
    "VAL_PERCENT = 0.005"
   ]
  },
  {
   "cell_type": "code",
   "execution_count": 36,
   "metadata": {},
   "outputs": [],
   "source": [
    "all_proccessed_images = os.listdir(output_images_path)\n",
    "all_proccessed_tags = [os.path.join(output_masks_path, image_name.split('.')[0]+'.npy')\n",
    "                       for image_name in all_proccessed_images]\n",
    "all_proccessed_images = [os.path.join(output_images_path, image_name)\n",
    "                         for image_name in all_proccessed_images]"
   ]
  },
  {
   "cell_type": "code",
   "execution_count": 37,
   "metadata": {},
   "outputs": [],
   "source": [
    "from sklearn.model_selection import train_test_split"
   ]
  },
  {
   "cell_type": "code",
   "execution_count": 38,
   "metadata": {},
   "outputs": [],
   "source": [
    "X, X_test, y, y_test = train_test_split(all_proccessed_images, all_proccessed_tags, test_size=TEST_PERCENT, random_state=42)\n",
    "val_percent = VAL_PERCENT / (1 - TEST_PERCENT)\n",
    "X_train, X_val, y_train, y_val = train_test_split(X, y, test_size=val_percent, random_state=42)"
   ]
  },
  {
   "cell_type": "code",
   "execution_count": 39,
   "metadata": {},
   "outputs": [],
   "source": [
    "CACHE_DIR = '../cached_data/auchan+lenta-segmentation-tags-coarse-9classes/'\n",
    "mkdir(CACHE_DIR)\n",
    "\n",
    "train_dir = os.path.join(CACHE_DIR, 'train')\n",
    "train_images = os.path.join(train_dir, 'images')\n",
    "train_labels = os.path.join(train_dir, 'labels')\n",
    "\n",
    "val_dir = os.path.join(CACHE_DIR, 'val')\n",
    "val_images = os.path.join(val_dir, 'images')\n",
    "val_labels = os.path.join(val_dir, 'labels')\n",
    "\n",
    "test_dir = os.path.join(CACHE_DIR, 'test')\n",
    "test_images = os.path.join(test_dir, 'images')\n",
    "test_labels = os.path.join(test_dir, 'labels')"
   ]
  },
  {
   "cell_type": "code",
   "execution_count": 40,
   "metadata": {},
   "outputs": [],
   "source": [
    "for dir_ in (train_dir, val_dir, test_dir, \n",
    "             train_images, train_labels,\n",
    "             val_images, val_labels,\n",
    "             test_images, test_labels):\n",
    "    mkdir(dir_)"
   ]
  },
  {
   "cell_type": "code",
   "execution_count": 41,
   "metadata": {},
   "outputs": [],
   "source": [
    "from shutil import copyfile\n",
    "\n",
    "def transer_data(images, masks, img_dir, label_dir):\n",
    "    for image_path, mask_path in tqdm.tqdm(zip(images, masks), total=len(images)):\n",
    "        if os.path.isfile(image_path):\n",
    "            stem = pathlib.Path(image_path).stem\n",
    "            copyfile(image_path, os.path.join(img_dir, f'{stem}.jpg'))\n",
    "            copyfile(mask_path, os.path.join(label_dir, f'{stem}.npy'))"
   ]
  },
  {
   "cell_type": "code",
   "execution_count": 43,
   "metadata": {},
   "outputs": [
    {
     "data": {
      "application/vnd.jupyter.widget-view+json": {
       "model_id": "06610f0e31384d1581058618a5ae4acf",
       "version_major": 2,
       "version_minor": 0
      },
      "text/plain": [
       "HBox(children=(IntProgress(value=0, max=248908), HTML(value='')))"
      ]
     },
     "metadata": {},
     "output_type": "display_data"
    },
    {
     "name": "stderr",
     "output_type": "stream",
     "text": [
      "IOPub message rate exceeded.\n",
      "The notebook server will temporarily stop sending output\n",
      "to the client in order to avoid crashing it.\n",
      "To change this limit, set the config variable\n",
      "`--NotebookApp.iopub_msg_rate_limit`.\n",
      "\n",
      "Current values:\n",
      "NotebookApp.iopub_msg_rate_limit=1000.0 (msgs/sec)\n",
      "NotebookApp.rate_limit_window=3.0 (secs)\n",
      "\n",
      "IOPub message rate exceeded.\n",
      "The notebook server will temporarily stop sending output\n",
      "to the client in order to avoid crashing it.\n",
      "To change this limit, set the config variable\n",
      "`--NotebookApp.iopub_msg_rate_limit`.\n",
      "\n",
      "Current values:\n",
      "NotebookApp.iopub_msg_rate_limit=1000.0 (msgs/sec)\n",
      "NotebookApp.rate_limit_window=3.0 (secs)\n",
      "\n",
      "IOPub message rate exceeded.\n",
      "The notebook server will temporarily stop sending output\n",
      "to the client in order to avoid crashing it.\n",
      "To change this limit, set the config variable\n",
      "`--NotebookApp.iopub_msg_rate_limit`.\n",
      "\n",
      "Current values:\n",
      "NotebookApp.iopub_msg_rate_limit=1000.0 (msgs/sec)\n",
      "NotebookApp.rate_limit_window=3.0 (secs)\n",
      "\n",
      "IOPub message rate exceeded.\n",
      "The notebook server will temporarily stop sending output\n",
      "to the client in order to avoid crashing it.\n",
      "To change this limit, set the config variable\n",
      "`--NotebookApp.iopub_msg_rate_limit`.\n",
      "\n",
      "Current values:\n",
      "NotebookApp.iopub_msg_rate_limit=1000.0 (msgs/sec)\n",
      "NotebookApp.rate_limit_window=3.0 (secs)\n",
      "\n",
      "IOPub message rate exceeded.\n",
      "The notebook server will temporarily stop sending output\n",
      "to the client in order to avoid crashing it.\n",
      "To change this limit, set the config variable\n",
      "`--NotebookApp.iopub_msg_rate_limit`.\n",
      "\n",
      "Current values:\n",
      "NotebookApp.iopub_msg_rate_limit=1000.0 (msgs/sec)\n",
      "NotebookApp.rate_limit_window=3.0 (secs)\n",
      "\n",
      "IOPub message rate exceeded.\n",
      "The notebook server will temporarily stop sending output\n",
      "to the client in order to avoid crashing it.\n",
      "To change this limit, set the config variable\n",
      "`--NotebookApp.iopub_msg_rate_limit`.\n",
      "\n",
      "Current values:\n",
      "NotebookApp.iopub_msg_rate_limit=1000.0 (msgs/sec)\n",
      "NotebookApp.rate_limit_window=3.0 (secs)\n",
      "\n",
      "IOPub message rate exceeded.\n",
      "The notebook server will temporarily stop sending output\n",
      "to the client in order to avoid crashing it.\n",
      "To change this limit, set the config variable\n",
      "`--NotebookApp.iopub_msg_rate_limit`.\n",
      "\n",
      "Current values:\n",
      "NotebookApp.iopub_msg_rate_limit=1000.0 (msgs/sec)\n",
      "NotebookApp.rate_limit_window=3.0 (secs)\n",
      "\n",
      "IOPub message rate exceeded.\n",
      "The notebook server will temporarily stop sending output\n",
      "to the client in order to avoid crashing it.\n",
      "To change this limit, set the config variable\n",
      "`--NotebookApp.iopub_msg_rate_limit`.\n",
      "\n",
      "Current values:\n",
      "NotebookApp.iopub_msg_rate_limit=1000.0 (msgs/sec)\n",
      "NotebookApp.rate_limit_window=3.0 (secs)\n",
      "\n",
      "IOPub message rate exceeded.\n",
      "The notebook server will temporarily stop sending output\n",
      "to the client in order to avoid crashing it.\n",
      "To change this limit, set the config variable\n",
      "`--NotebookApp.iopub_msg_rate_limit`.\n",
      "\n",
      "Current values:\n",
      "NotebookApp.iopub_msg_rate_limit=1000.0 (msgs/sec)\n",
      "NotebookApp.rate_limit_window=3.0 (secs)\n",
      "\n",
      "IOPub message rate exceeded.\n",
      "The notebook server will temporarily stop sending output\n",
      "to the client in order to avoid crashing it.\n",
      "To change this limit, set the config variable\n",
      "`--NotebookApp.iopub_msg_rate_limit`.\n",
      "\n",
      "Current values:\n",
      "NotebookApp.iopub_msg_rate_limit=1000.0 (msgs/sec)\n",
      "NotebookApp.rate_limit_window=3.0 (secs)\n",
      "\n",
      "IOPub message rate exceeded.\n",
      "The notebook server will temporarily stop sending output\n",
      "to the client in order to avoid crashing it.\n",
      "To change this limit, set the config variable\n",
      "`--NotebookApp.iopub_msg_rate_limit`.\n",
      "\n",
      "Current values:\n",
      "NotebookApp.iopub_msg_rate_limit=1000.0 (msgs/sec)\n",
      "NotebookApp.rate_limit_window=3.0 (secs)\n",
      "\n",
      "IOPub message rate exceeded.\n",
      "The notebook server will temporarily stop sending output\n",
      "to the client in order to avoid crashing it.\n",
      "To change this limit, set the config variable\n",
      "`--NotebookApp.iopub_msg_rate_limit`.\n",
      "\n",
      "Current values:\n",
      "NotebookApp.iopub_msg_rate_limit=1000.0 (msgs/sec)\n",
      "NotebookApp.rate_limit_window=3.0 (secs)\n",
      "\n"
     ]
    }
   ],
   "source": [
    "transer_data(X_train, y_train, train_images, train_labels)\n",
    "transer_data(X_val, y_val, val_images, val_labels)\n",
    "transer_data(X_test, y_test, test_images, test_labels)"
   ]
  },
  {
   "cell_type": "code",
   "execution_count": 44,
   "metadata": {},
   "outputs": [
    {
     "name": "stdout",
     "output_type": "stream",
     "text": [
      "Done\n"
     ]
    }
   ],
   "source": [
    "print('Done')"
   ]
  },
  {
   "cell_type": "code",
   "execution_count": 120,
   "metadata": {},
   "outputs": [
    {
     "ename": "FileNotFoundError",
     "evalue": "[Errno 2] No such file or directory: '../storage/21-02-19-segmentator-finedataset/processed_data_5class/images'",
     "output_type": "error",
     "traceback": [
      "\u001b[0;31m---------------------------------------------------------------------------\u001b[0m",
      "\u001b[0;31mFileNotFoundError\u001b[0m                         Traceback (most recent call last)",
      "\u001b[0;32m<ipython-input-120-3fc9f42e1888>\u001b[0m in \u001b[0;36m<module>\u001b[0;34m\u001b[0m\n\u001b[0;32m----> 1\u001b[0;31m \u001b[0mall_proccessed_images\u001b[0m \u001b[0;34m=\u001b[0m \u001b[0mos\u001b[0m\u001b[0;34m.\u001b[0m\u001b[0mlistdir\u001b[0m\u001b[0;34m(\u001b[0m\u001b[0moutput_images_path\u001b[0m\u001b[0;34m)\u001b[0m\u001b[0;34m\u001b[0m\u001b[0;34m\u001b[0m\u001b[0m\n\u001b[0m\u001b[1;32m      2\u001b[0m all_proccessed_tags = [os.path.join(output_masks_path, image_name.split('.')[0]+'.npy')\n\u001b[1;32m      3\u001b[0m                        for image_name in all_proccessed_images]\n\u001b[1;32m      4\u001b[0m all_proccessed_images = [os.path.join(output_images_path, image_name)\n\u001b[1;32m      5\u001b[0m                          for image_name in all_proccessed_images]\n",
      "\u001b[0;31mFileNotFoundError\u001b[0m: [Errno 2] No such file or directory: '../storage/21-02-19-segmentator-finedataset/processed_data_5class/images'"
     ]
    }
   ],
   "source": [
    "all_proccessed_images = os.listdir(output_images_path)\n",
    "all_proccessed_tags = [os.path.join(output_masks_path, image_name.split('.')[0]+'.npy')\n",
    "                       for image_name in all_proccessed_images]\n",
    "all_proccessed_images = [os.path.join(output_images_path, image_name)\n",
    "                         for image_name in all_proccessed_images]"
   ]
  },
  {
   "cell_type": "code",
   "execution_count": null,
   "metadata": {},
   "outputs": [],
   "source": []
  },
  {
   "cell_type": "code",
   "execution_count": null,
   "metadata": {},
   "outputs": [],
   "source": []
  },
  {
   "cell_type": "code",
   "execution_count": null,
   "metadata": {},
   "outputs": [],
   "source": []
  },
  {
   "cell_type": "code",
   "execution_count": null,
   "metadata": {},
   "outputs": [],
   "source": []
  }
 ],
 "metadata": {
  "kernelspec": {
   "display_name": "Python 3",
   "language": "python",
   "name": "python3"
  },
  "language_info": {
   "codemirror_mode": {
    "name": "ipython",
    "version": 3
   },
   "file_extension": ".py",
   "mimetype": "text/x-python",
   "name": "python",
   "nbconvert_exporter": "python",
   "pygments_lexer": "ipython3",
   "version": "3.6.11"
  }
 },
 "nbformat": 4,
 "nbformat_minor": 4
}
