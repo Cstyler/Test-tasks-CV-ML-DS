{
 "cells": [
  {
   "cell_type": "code",
   "execution_count": 2,
   "metadata": {},
   "outputs": [],
   "source": [
    "from grcnn import training\n",
    "from keras import optimizers as keras_optimizers"
   ]
  },
  {
   "cell_type": "code",
   "execution_count": 3,
   "metadata": {},
   "outputs": [
    {
     "name": "stdout",
     "output_type": "stream",
     "text": [
      "WARNING:tensorflow:From /home/agazade/.conda/envs/main/lib/python3.7/site-packages/tensorflow/python/framework/op_def_library.py:263: colocate_with (from tensorflow.python.framework.ops) is deprecated and will be removed in a future version.\n",
      "Instructions for updating:\n",
      "Colocations handled automatically by placer.\n"
     ]
    }
   ],
   "source": [
    "batch_size = 10\n",
    "model_num = 11\n",
    "initial_epoch = 0\n",
    "width, height = 64, 32\n",
    "max_text_len = 17\n",
    "n_classes = 10\n",
    "epochs = 400\n",
    "train_augment_prob = .5\n",
    "grcl_niter = 5\n",
    "grcl_fsize = 3\n",
    "lstm_units = 512\n",
    "train_df_name = f'train_set_len{max_text_len}'\n",
    "val_df_name = f'val_set_len{max_text_len}'\n",
    "# loss_weights = (1., .02)\n",
    "img_dir = f'images_train_size{width}x{height}'\n",
    "# img_dir = f'images_train_padding_size{width}x{height}'\n",
    "pretrain_model_path = None\n",
    "lr = .1\n",
    "optimizer = keras_optimizers.Adadelta(lr, rho=.9)"
   ]
  },
  {
   "cell_type": "code",
   "execution_count": null,
   "metadata": {},
   "outputs": [],
   "source": [
    "training.train(train_df_name, val_df_name, img_dir, model_num, initial_epoch, epochs, train_augment_prob, batch_size,\n",
    "          pretrain_model_path, optimizer, width, height, max_text_len, n_classes,\n",
    "          grcl_niter, grcl_fsize, lstm_units)"
   ]
  },
  {
   "cell_type": "code",
   "execution_count": null,
   "metadata": {},
   "outputs": [],
   "source": []
  }
 ],
 "metadata": {
  "kernelspec": {
   "display_name": "Python 3",
   "language": "python",
   "name": "python3"
  },
  "language_info": {
   "codemirror_mode": {
    "name": "ipython",
    "version": 3
   },
   "file_extension": ".py",
   "mimetype": "text/x-python",
   "name": "python",
   "nbconvert_exporter": "python",
   "pygments_lexer": "ipython3",
   "version": "3.6.11"
  }
 },
 "nbformat": 4,
 "nbformat_minor": 4
}
