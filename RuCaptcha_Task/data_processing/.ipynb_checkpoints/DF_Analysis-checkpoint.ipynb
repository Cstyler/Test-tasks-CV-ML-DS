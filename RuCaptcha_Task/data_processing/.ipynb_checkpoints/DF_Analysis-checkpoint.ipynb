{
 "cells": [
  {
   "cell_type": "code",
   "execution_count": 8,
   "metadata": {},
   "outputs": [],
   "source": [
    "from pylibs import pandas_utils\n",
    "from pathlib import Path\n",
    "import analysis\n",
    "from collections import Counter\n",
    "import pandas as pd"
   ]
  },
  {
   "cell_type": "code",
   "execution_count": 39,
   "metadata": {},
   "outputs": [],
   "source": [
    "dataset_dir_path = Path(\"../dataset/dataframes\")\n",
    "df_name = 'data'\n",
    "# df_name = 'imgs_indices'\n",
    "df_name = 'train_set'\n",
    "# df_name = 'val_set'\n",
    "\n",
    "# df_name = '%s.csv' % df_name\n",
    "df_name = pandas_utils.DF_FILE_FORMAT % df_name\n",
    "df_path = dataset_dir_path / df_name\n",
    "\n",
    "df = pandas_utils.read_dataframe(df_path)\n",
    "# df = pandas_utils.pd.read_csv(df_path)"
   ]
  },
  {
   "cell_type": "code",
   "execution_count": 40,
   "metadata": {},
   "outputs": [
    {
     "data": {
      "text/plain": [
       "(33233, 33233, 33233)"
      ]
     },
     "execution_count": 40,
     "metadata": {},
     "output_type": "execute_result"
    }
   ],
   "source": [
    "len(df.index), len(df.index.drop_duplicates()), len(df.drop_duplicates())"
   ]
  },
  {
   "cell_type": "code",
   "execution_count": 41,
   "metadata": {},
   "outputs": [
    {
     "data": {
      "text/html": [
       "<div>\n",
       "<style scoped>\n",
       "    .dataframe tbody tr th:only-of-type {\n",
       "        vertical-align: middle;\n",
       "    }\n",
       "\n",
       "    .dataframe tbody tr th {\n",
       "        vertical-align: top;\n",
       "    }\n",
       "\n",
       "    .dataframe thead th {\n",
       "        text-align: right;\n",
       "    }\n",
       "</style>\n",
       "<table border=\"1\" class=\"dataframe\">\n",
       "  <thead>\n",
       "    <tr style=\"text-align: right;\">\n",
       "      <th></th>\n",
       "      <th>label</th>\n",
       "      <th>text</th>\n",
       "      <th>array_ind</th>\n",
       "      <th>char_freq</th>\n",
       "    </tr>\n",
       "    <tr>\n",
       "      <th>num</th>\n",
       "      <th></th>\n",
       "      <th></th>\n",
       "      <th></th>\n",
       "      <th></th>\n",
       "    </tr>\n",
       "  </thead>\n",
       "  <tbody>\n",
       "    <tr>\n",
       "      <th>17628</th>\n",
       "      <td>[9,4,7,8,5,10,10,10,10,10]</td>\n",
       "      <td>94785</td>\n",
       "      <td>17620</td>\n",
       "      <td>[0,0,0,0,1,1,0,1,1,1]</td>\n",
       "    </tr>\n",
       "    <tr>\n",
       "      <th>24273</th>\n",
       "      <td>[5,5,6,9,7,10,10,10,10,10]</td>\n",
       "      <td>55697</td>\n",
       "      <td>24267</td>\n",
       "      <td>[0,0,0,0,0,2,1,1,0,1]</td>\n",
       "    </tr>\n",
       "    <tr>\n",
       "      <th>22375</th>\n",
       "      <td>[8,5,1,4,7,10,10,10,10,10]</td>\n",
       "      <td>85147</td>\n",
       "      <td>22369</td>\n",
       "      <td>[0,1,0,0,1,1,0,1,1,0]</td>\n",
       "    </tr>\n",
       "    <tr>\n",
       "      <th>38385</th>\n",
       "      <td>[6,1,1,4,9,10,10,10,10,10]</td>\n",
       "      <td>61149</td>\n",
       "      <td>38377</td>\n",
       "      <td>[0,2,0,0,1,0,1,0,0,1]</td>\n",
       "    </tr>\n",
       "    <tr>\n",
       "      <th>19425</th>\n",
       "      <td>[0,0,9,7,4,10,10,10,10,10]</td>\n",
       "      <td>00974</td>\n",
       "      <td>19417</td>\n",
       "      <td>[2,0,0,0,1,0,0,1,0,1]</td>\n",
       "    </tr>\n",
       "  </tbody>\n",
       "</table>\n",
       "</div>"
      ],
      "text/plain": [
       "                            label   text  array_ind              char_freq\n",
       "num                                                                       \n",
       "17628  [9,4,7,8,5,10,10,10,10,10]  94785      17620  [0,0,0,0,1,1,0,1,1,1]\n",
       "24273  [5,5,6,9,7,10,10,10,10,10]  55697      24267  [0,0,0,0,0,2,1,1,0,1]\n",
       "22375  [8,5,1,4,7,10,10,10,10,10]  85147      22369  [0,1,0,0,1,1,0,1,1,0]\n",
       "38385  [6,1,1,4,9,10,10,10,10,10]  61149      38377  [0,2,0,0,1,0,1,0,0,1]\n",
       "19425  [0,0,9,7,4,10,10,10,10,10]  00974      19417  [2,0,0,0,1,0,0,1,0,1]"
      ]
     },
     "execution_count": 41,
     "metadata": {},
     "output_type": "execute_result"
    }
   ],
   "source": [
    "df.head()"
   ]
  },
  {
   "cell_type": "code",
   "execution_count": 17,
   "metadata": {},
   "outputs": [
    {
     "data": {
      "text/html": [
       "<div>\n",
       "<style scoped>\n",
       "    .dataframe tbody tr th:only-of-type {\n",
       "        vertical-align: middle;\n",
       "    }\n",
       "\n",
       "    .dataframe tbody tr th {\n",
       "        vertical-align: top;\n",
       "    }\n",
       "\n",
       "    .dataframe thead th {\n",
       "        text-align: right;\n",
       "    }\n",
       "</style>\n",
       "<table border=\"1\" class=\"dataframe\">\n",
       "  <thead>\n",
       "    <tr style=\"text-align: right;\">\n",
       "      <th></th>\n",
       "      <th>label</th>\n",
       "      <th>text</th>\n",
       "      <th>array_ind</th>\n",
       "    </tr>\n",
       "    <tr>\n",
       "      <th>num</th>\n",
       "      <th></th>\n",
       "      <th></th>\n",
       "      <th></th>\n",
       "    </tr>\n",
       "  </thead>\n",
       "  <tbody>\n",
       "    <tr>\n",
       "      <th>9929</th>\n",
       "      <td>[4,7,3,5,9,10,10,10,10,10]</td>\n",
       "      <td>47359</td>\n",
       "      <td>9926</td>\n",
       "    </tr>\n",
       "  </tbody>\n",
       "</table>\n",
       "</div>"
      ],
      "text/plain": [
       "                           label   text  array_ind\n",
       "num                                               \n",
       "9929  [4,7,3,5,9,10,10,10,10,10]  47359       9926"
      ]
     },
     "execution_count": 17,
     "metadata": {},
     "output_type": "execute_result"
    }
   ],
   "source": [
    "df.loc[df.index==9929]"
   ]
  },
  {
   "cell_type": "code",
   "execution_count": 5,
   "metadata": {},
   "outputs": [
    {
     "data": {
      "text/plain": [
       "[]"
      ]
     },
     "execution_count": 5,
     "metadata": {},
     "output_type": "execute_result"
    }
   ],
   "source": [
    "[row for row in df.iterrows() if len(row[1]['text']) != 5]"
   ]
  },
  {
   "cell_type": "code",
   "execution_count": 6,
   "metadata": {},
   "outputs": [
    {
     "name": "stdout",
     "output_type": "stream",
     "text": [
      "Counter({'1': 19748, '9': 19683, '7': 19651, '4': 19640, '3': 19574, '6': 19551, '0': 19495, '8': 19435, '2': 19377, '5': 19336})\n"
     ]
    }
   ],
   "source": [
    "chars = Counter()\n",
    "for x in df.text:\n",
    "    for y in x:\n",
    "        chars[y] += 1\n",
    "print(chars)"
   ]
  },
  {
   "cell_type": "code",
   "execution_count": 3,
   "metadata": {},
   "outputs": [
    {
     "data": {
      "application/vnd.jupyter.widget-view+json": {
       "model_id": "d15c50320735461fb800fc31b5cad651",
       "version_major": 2,
       "version_minor": 0
      },
      "text/plain": [
       "HBox(children=(FloatProgress(value=0.0, max=39098.0), HTML(value='')))"
      ]
     },
     "metadata": {},
     "output_type": "display_data"
    },
    {
     "name": "stdout",
     "output_type": "stream",
     "text": [
      "\n"
     ]
    }
   ],
   "source": [
    "dataset_dir_path = Path(\"../dataset\")\n",
    "df_name = 'data2'\n",
    "img_dir = 'imgs'\n",
    "h = 32\n",
    "hs, ws = analysis.shape_analysis(dataset_dir_path, df_name, img_dir)\n",
    "print(set(hs), set(ws))"
   ]
  },
  {
   "cell_type": "code",
   "execution_count": null,
   "metadata": {},
   "outputs": [],
   "source": []
  }
 ],
 "metadata": {
  "kernelspec": {
   "display_name": "Python 3",
   "language": "python",
   "name": "python3"
  },
  "language_info": {
   "codemirror_mode": {
    "name": "ipython",
    "version": 3
   },
   "file_extension": ".py",
   "mimetype": "text/x-python",
   "name": "python",
   "nbconvert_exporter": "python",
   "pygments_lexer": "ipython3",
   "version": "3.6.11"
  }
 },
 "nbformat": 4,
 "nbformat_minor": 4
}
