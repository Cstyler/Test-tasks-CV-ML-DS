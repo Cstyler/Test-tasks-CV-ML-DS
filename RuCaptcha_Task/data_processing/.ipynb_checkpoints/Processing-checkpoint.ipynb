{
 "cells": [
  {
   "cell_type": "code",
   "execution_count": 1,
   "metadata": {},
   "outputs": [],
   "source": [
    "%load_ext autoreload\n",
    "%autoreload 2"
   ]
  },
  {
   "cell_type": "code",
   "execution_count": 7,
   "metadata": {},
   "outputs": [],
   "source": [
    "import sampling\n",
    "import image_processing\n",
    "import dataframe_processing\n",
    "import functools\n",
    "from pathlib import Path\n",
    "\n",
    "dataset_dir_path = Path(\"../dataset\")"
   ]
  },
  {
   "cell_type": "code",
   "execution_count": null,
   "metadata": {},
   "outputs": [],
   "source": [
    "dataset_dir_path = dataset_dir_path / \"dataframes\"\n",
    "df_name = 'data'\n",
    "save_df_name = 'data2'\n",
    "chars = tuple(map(str, range(10)))\n",
    "dataframe_processing.preprocess_df(dataset_dir_path, df_name, save_df_name, chars)"
   ]
  },
  {
   "cell_type": "code",
   "execution_count": null,
   "metadata": {},
   "outputs": [
    {
     "name": "stdout",
     "output_type": "stream",
     "text": [
      "../dataset/dataframes/data2.parquet.gzip\n"
     ]
    }
   ],
   "source": [
    "df_name = \"data2\"\n",
    "w, h = 100, 32\n",
    "\n",
    "img_dir = 'imgs'\n",
    "save_img_dir = f'imgs_train_size{w}x{h}'\n",
    "debug = True\n",
    "image_processing.resize_images(dataset_dir_path, df_name, img_dir, save_img_dir, w, h, debug=debug)"
   ]
  },
  {
   "cell_type": "code",
   "execution_count": 3,
   "metadata": {},
   "outputs": [],
   "source": [
    "max_len = 17\n",
    "df_name = f'test_set_len{max_len}'\n",
    "col_name1 = 'char_freq_x'\n",
    "# col_name1 = 'char_freq_y'\n",
    "col_name2 = 'char_freq'\n",
    "modify_fun = functools.partial(dataframe_processing.rename_column, col_name=col_name1, new_col_name=col_name2)\n",
    "dataframe_processing.modify_df(dataset_dir_path, df_name, modify_fun)"
   ]
  },
  {
   "cell_type": "code",
   "execution_count": 1,
   "metadata": {},
   "outputs": [],
   "source": [
    "import image_processing\n",
    "import dataframe_processing\n",
    "from pathlib import Path\n",
    "\n",
    "dataset_dir_path = Path(\"/srv/data_science/storage/price_ocr\")"
   ]
  },
  {
   "cell_type": "code",
   "execution_count": 22,
   "metadata": {},
   "outputs": [],
   "source": [
    "max_len = 17\n",
    "df_names = (('data2', f'train_set_len{max_len}_mod1'), )\n",
    "chars = tuple(map(str, range(10)))\n",
    "outlier_len = 6\n",
    "dataframe_processing.post_process_labels_model_grcnn(dataset_dir_path, df_names, max_len, outlier_len, chars)"
   ]
  },
  {
   "cell_type": "code",
   "execution_count": 3,
   "metadata": {},
   "outputs": [],
   "source": [
    "max_len = 17\n",
    "df_name = f'train_set_relabel_len{max_len}'\n",
    "df_name2 = f'train_set_relabel_len{max_len}_2'\n",
    "dataframe_processing.post_process_labels_model_freq(dataset_dir_path, df_name, df_name2)"
   ]
  },
  {
   "cell_type": "code",
   "execution_count": 3,
   "metadata": {},
   "outputs": [
    {
     "name": "stdout",
     "output_type": "stream",
     "text": [
      "DF size: 13587\n",
      "size1: 6793\n",
      "size2: 6794\n"
     ]
    }
   ],
   "source": [
    "max_len = 17\n",
    "fine_df_name = f'fine_val_len{max_len}'\n",
    "val_set_name = f'val_set_len{max_len}'\n",
    "test_set_name = f'test_set_len{max_len}'\n",
    "test_size = .5\n",
    "sampling.split_dataset(dataset_dir_path, fine_df_name, test_size, val_set_name, test_set_name)"
   ]
  },
  {
   "cell_type": "code",
   "execution_count": 3,
   "metadata": {},
   "outputs": [
    {
     "name": "stdout",
     "output_type": "stream",
     "text": [
      "31 images were deleted\n"
     ]
    }
   ],
   "source": [
    "df_name = 'fine'\n",
    "old_df_name = 'oct_2019_fine'\n",
    "image_dir_path = dataset_dir_path / 'processed_images'\n",
    "debug = False\n",
    "image_processing.remove_old_imgs(dataset_dir_path, df_name, old_df_name, image_dir_path, debug)"
   ]
  },
  {
   "cell_type": "code",
   "execution_count": 4,
   "metadata": {},
   "outputs": [],
   "source": [
    "df_name2 = f'train_set_relabel_len{max_len}'\n",
    "df_name = f'train_set_relabel_len{max_len}_2'\n",
    "\n",
    "key = \"char_freq\"\n",
    "dataframe_processing.add_column_to_df(dataset_dir_path, df_name, df_name2, key)"
   ]
  },
  {
   "cell_type": "code",
   "execution_count": 166,
   "metadata": {},
   "outputs": [],
   "source": [
    "max_len = 17\n",
    "df_names = (\n",
    "    f\"train_set_len{max_len}\",\n",
    "    f\"test_set_len{max_len}\",\n",
    "    f\"fine_val_len{max_len}\",\n",
    "    f\"val_set_len{max_len}\",\n",
    ")\n",
    "dataframe_processing.rename_index(dataset_dir_path, df_names)"
   ]
  },
  {
   "cell_type": "code",
   "execution_count": 2,
   "metadata": {},
   "outputs": [],
   "source": [
    "df_name = \"oct_2019_noise_processed\"\n",
    "width, height = 64, 32\n",
    "\n",
    "img_dir = 'oct_2019_processed_images'\n",
    "save_img_dir = f'images_train_padding_zero_size{width}x{height}'\n",
    "debug = False\n",
    "# image_processing.resize_images_padding(dataset_dir_path, df_name, img_dir, save_img_dir, width, height, debug)"
   ]
  },
  {
   "cell_type": "code",
   "execution_count": 3,
   "metadata": {},
   "outputs": [
    {
     "data": {
      "application/vnd.jupyter.widget-view+json": {
       "model_id": "e427da57b3ed466c86145483e8e20d98",
       "version_major": 2,
       "version_minor": 0
      },
      "text/plain": [
       "HBox(children=(IntProgress(value=0, max=14225), HTML(value='')))"
      ]
     },
     "metadata": {},
     "output_type": "display_data"
    },
    {
     "name": "stdout",
     "output_type": "stream",
     "text": [
      "\n"
     ]
    }
   ],
   "source": [
    "df_name = \"oct_2019_fine_processed\"\n",
    "image_processing.resize_images_padding(dataset_dir_path, df_name, img_dir, save_img_dir, width, height, debug)"
   ]
  },
  {
   "cell_type": "code",
   "execution_count": null,
   "metadata": {},
   "outputs": [],
   "source": []
  }
 ],
 "metadata": {
  "kernelspec": {
   "display_name": "Python 3",
   "language": "python",
   "name": "python3"
  },
  "language_info": {
   "codemirror_mode": {
    "name": "ipython",
    "version": 3
   },
   "file_extension": ".py",
   "mimetype": "text/x-python",
   "name": "python",
   "nbconvert_exporter": "python",
   "pygments_lexer": "ipython3",
   "version": "3.6.11"
  }
 },
 "nbformat": 4,
 "nbformat_minor": 4
}
