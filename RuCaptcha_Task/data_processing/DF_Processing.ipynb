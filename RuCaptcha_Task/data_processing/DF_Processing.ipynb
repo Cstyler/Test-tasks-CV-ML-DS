{
 "cells": [
  {
   "cell_type": "code",
   "execution_count": 2,
   "metadata": {},
   "outputs": [],
   "source": [
    "import sampling\n",
    "import image_processing\n",
    "import dataframe_processing\n",
    "import functools\n",
    "from pathlib import Path\n",
    "from pylibs import pandas_utils\n",
    "\n",
    "dataset_dir_path = Path(\"../dataset\")"
   ]
  },
  {
   "cell_type": "code",
   "execution_count": 2,
   "metadata": {},
   "outputs": [],
   "source": [
    "dataset_dir_path_ = dataset_dir_path / \"dataframes\"\n",
    "df_name = 'data'\n",
    "save_df_name = 'data2'\n",
    "chars = set(map(str, range(10)))\n",
    "dataframe_processing.preprocess_df(dataset_dir_path_, df_name, save_df_name, chars)"
   ]
  },
  {
   "cell_type": "code",
   "execution_count": 9,
   "metadata": {},
   "outputs": [
    {
     "data": {
      "application/vnd.jupyter.widget-view+json": {
       "model_id": "ed152d6aab764cbfb0244d9b04ec6b2e",
       "version_major": 2,
       "version_minor": 0
      },
      "text/plain": [
       "HBox(children=(FloatProgress(value=0.0, max=39098.0), HTML(value='')))"
      ]
     },
     "metadata": {},
     "output_type": "display_data"
    },
    {
     "name": "stdout",
     "output_type": "stream",
     "text": [
      "\n"
     ]
    }
   ],
   "source": [
    "df_name = \"data2\"\n",
    "w, h = 160, 32\n",
    "\n",
    "img_dir = 'imgs'\n",
    "save_img_dir = f'imgs_train_size{w}x{h}'\n",
    "debug = False\n",
    "image_processing.resize_images(dataset_dir_path, df_name, img_dir, save_img_dir, w, h, debug=debug)"
   ]
  },
  {
   "cell_type": "code",
   "execution_count": 15,
   "metadata": {},
   "outputs": [],
   "source": [
    "max_len = 10\n",
    "dataset_dir_path_ = dataset_dir_path / \"dataframes\"\n",
    "df_names = ('data2', f'train_set')\n",
    "chars = tuple(map(str, range(10)))\n",
    "dataframe_processing.post_process_labels_model_grcnn(dataset_dir_path_, df_names, max_len, chars)"
   ]
  },
  {
   "cell_type": "code",
   "execution_count": 16,
   "metadata": {},
   "outputs": [],
   "source": [
    "df_name = \"data2\"\n",
    "# w, h = 100, 32\n",
    "w, h = 160, 32\n",
    "img_dir = f'imgs_train_size{w}x{h}'\n",
    "save_df_name = 'imgs_indices'\n",
    "save_arr_name = img_dir\n",
    "dataframe_processing.create_img_array(dataset_dir_path, df_name, img_dir, save_arr_name, save_df_name)"
   ]
  },
  {
   "cell_type": "code",
   "execution_count": 17,
   "metadata": {},
   "outputs": [],
   "source": [
    "max_len = 10\n",
    "dataset_dir_path_ = dataset_dir_path / \"dataframes\"\n",
    "df_name = 'train_set'\n",
    "new_df_name = 'train_set_freq'\n",
    "dataframe_processing.post_process_labels_model_freq(dataset_dir_path_, df_name, new_df_name)"
   ]
  },
  {
   "cell_type": "code",
   "execution_count": 18,
   "metadata": {},
   "outputs": [],
   "source": [
    "dataset_dir_path_ = dataset_dir_path / \"dataframes\"\n",
    "\n",
    "df_name2 = 'train_set'\n",
    "df_name = 'imgs_indices'\n",
    "\n",
    "key = \"array_ind\"\n",
    "dataframe_processing.add_column_to_df(dataset_dir_path_, df_name, df_name2, key)"
   ]
  },
  {
   "cell_type": "code",
   "execution_count": 19,
   "metadata": {},
   "outputs": [],
   "source": [
    "dataset_dir_path_ = dataset_dir_path / \"dataframes\"\n",
    "\n",
    "df_name2 = 'train_set'\n",
    "df_name = 'train_set_freq'\n",
    "\n",
    "key = \"char_freq\"\n",
    "dataframe_processing.add_column_to_df(dataset_dir_path_, df_name, df_name2, key)"
   ]
  },
  {
   "cell_type": "code",
   "execution_count": 20,
   "metadata": {},
   "outputs": [
    {
     "name": "stdout",
     "output_type": "stream",
     "text": [
      "DF size: 39098\n",
      "size1: 33233\n",
      "size2: 3910\n",
      "size3: 1955\n"
     ]
    }
   ],
   "source": [
    "dataset_dir_path_ = dataset_dir_path / \"dataframes\"\n",
    "train_set_name = 'train_set'\n",
    "val_set_name = 'val_set'\n",
    "test_set_name = 'test_set'\n",
    "val_size = .1\n",
    "test_size = .05\n",
    "sampling.split_dataset(dataset_dir_path_, train_set_name, val_size, test_size, train_set_name, val_set_name, test_set_name)"
   ]
  },
  {
   "cell_type": "code",
   "execution_count": null,
   "metadata": {},
   "outputs": [],
   "source": []
  }
 ],
 "metadata": {
  "kernelspec": {
   "display_name": "Python 3",
   "language": "python",
   "name": "python3"
  },
  "language_info": {
   "codemirror_mode": {
    "name": "ipython",
    "version": 3
   },
   "file_extension": ".py",
   "mimetype": "text/x-python",
   "name": "python",
   "nbconvert_exporter": "python",
   "pygments_lexer": "ipython3",
   "version": "3.6.11"
  }
 },
 "nbformat": 4,
 "nbformat_minor": 4
}
